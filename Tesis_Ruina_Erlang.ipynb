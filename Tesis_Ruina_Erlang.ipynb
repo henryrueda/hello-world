{
 "cells": [
  {
   "cell_type": "code",
   "execution_count": 1,
   "metadata": {
    "colab": {},
    "colab_type": "code",
    "executionInfo": {
     "elapsed": 503,
     "status": "ok",
     "timestamp": 1599950464543,
     "user": {
      "displayName": "Juan David Jaramillo Urrutia",
      "photoUrl": "https://lh3.googleusercontent.com/a-/AOh14Gg_bJgqyot_MW8Acm8-sIrDFpcPR6hjlW02wjJSRQ=s64",
      "userId": "12089805435579480557"
     },
     "user_tz": 300
    },
    "id": "3FBzx0-PbTJH"
   },
   "outputs": [],
   "source": [
    "import matplotlib.pyplot as plt\n",
    "from scipy.stats import describe\n",
    "import numpy as np\n",
    "import pandas as pd\n",
    "import operator\n",
    "from astropy.table import QTable, Table, Column\n",
    "from astropy import units as u"
   ]
  },
  {
   "cell_type": "markdown",
   "metadata": {},
   "source": [
    "                                                      PROBLEMA DE RUINA"
   ]
  },
  {
   "cell_type": "markdown",
   "metadata": {},
   "source": [
    "\n",
    "$$X_{t}= x_0 +ct - \\sum_{i=1} ^ {N_t} Zi$$\n",
    "             \n",
    "Donde $Z_i$ se distribuye exponencial."
   ]
  },
  {
   "cell_type": "markdown",
   "metadata": {},
   "source": [
    "Probar la condicion de ganancia neta $$c>\\frac{(\\mu_{1_H} \\rho + a \\delta)}{(\\delta-\\mu_{1G})}\\mu_{1_Z}$$\n",
    "donde $x_0$ es constante y $c$ es constante"
   ]
  },
  {
   "cell_type": "markdown",
   "metadata": {},
   "source": [
    "Se realizará la simulación propuesta por Dassios y Zhao para calcular los tiempos de saltos del modelo."
   ]
  },
  {
   "cell_type": "code",
   "execution_count": 2,
   "metadata": {
    "colab": {},
    "colab_type": "code",
    "executionInfo": {
     "elapsed": 457,
     "status": "ok",
     "timestamp": 1599950649694,
     "user": {
      "displayName": "Juan David Jaramillo Urrutia",
      "photoUrl": "https://lh3.googleusercontent.com/a-/AOh14Gg_bJgqyot_MW8Acm8-sIrDFpcPR6hjlW02wjJSRQ=s64",
      "userId": "12089805435579480557"
     },
     "user_tz": 300
    },
    "id": "XGlHIvJgeN_e"
   },
   "outputs": [],
   "source": [
    "def simulation2(a,rho,delta,alpha,beta,lambda0,T):\n",
    "    T0=0\n",
    "    Nt=[]\n",
    "    Nt.append(0)\n",
    "    E=(-1/rho)*(np.log(np.random.uniform(0,1)))\n",
    "    d1=1+((delta*np.log(np.random.uniform(0,1)))/lambda0-a)\n",
    "    lambdat=[]\n",
    "    Ti=[]\n",
    "    size=[]\n",
    "    if d1>0:\n",
    "        S1=(-np.log(d1))/delta\n",
    "        S2=(-np.log(np.random.uniform(0,1)))/a\n",
    "        S= min(S1,S2)\n",
    "    else:\n",
    "        S2=(-np.log(np.random.uniform(0,1)))/a\n",
    "        S=S2\n",
    "    Ti.append(T0+min(S,E))\n",
    "    lambdamenos=a+(lambda0-a)*np.exp(-delta*(Ti[0]-T0))\n",
    "    if S<E:\n",
    "        SJ=np.random.exponential(scale=1/beta)\n",
    "        lambdat.append(lambdamenos+SJ)\n",
    "        size.append(SJ)\n",
    "        N=1\n",
    "    else:\n",
    "        EJ=np.random.exponential(scale=1/alpha)\n",
    "        lambdat.append(lambdamenos+EJ)\n",
    "        size.append(EJ)\n",
    "        N=0\n",
    "    Nt[0]=N\n",
    "    i=1\n",
    "    Tx=Ti[-1]\n",
    "    while Tx<T:\n",
    "        E=(-1/rho)*(np.log(np.random.uniform(0,1)))\n",
    "        d1=1+((delta*np.log(np.random.uniform(0,1)))/lambdat[i-1]-a)\n",
    "        if d1>0:\n",
    "            S1=(-np.log(d1))/delta\n",
    "            S2=(-np.log(np.random.uniform(0,1)))/a\n",
    "            S= min(S1,S2)\n",
    "        else:\n",
    "            S2=(-np.log(np.random.uniform(0,1)))/a\n",
    "            S=S2\n",
    "        Tx=Ti[i-1]+min(S,E)\n",
    "        if Tx>T:\n",
    "            break\n",
    "        Ti.append(Tx)\n",
    "        lambdamenos=a+(lambdat[i-1]-a)*np.exp(-delta*(Ti[i]-Ti[i-1]))\n",
    "        if S<E:\n",
    "            SJ=np.random.exponential(scale=1/beta)\n",
    "            lambdat.append(lambdamenos+SJ)\n",
    "            size.append(SJ)\n",
    "            N=1+N\n",
    "        else:\n",
    "            EJ=np.random.exponential(scale=1/alpha)\n",
    "            lambdat.append(lambdamenos+EJ)\n",
    "            size.append(EJ)\n",
    "            N=0+N\n",
    "        Nt.append(N)\n",
    "        i=i+1\n",
    "        if i==1000000:\n",
    "            break\n",
    "    return Ti,Nt,N,lambdat,size"
   ]
  },
  {
   "cell_type": "markdown",
   "metadata": {},
   "source": [
    "$\\quad$"
   ]
  },
  {
   "cell_type": "markdown",
   "metadata": {},
   "source": [
    "Los parámetros a utilizar durante la primera simulación serán:\n",
    "$$(a,\\rho,\\delta,\\alpha,\\beta,\\gamma,\\lambda_0,T,c,x_0)=(0.7,0.5,2.0,2.0,1.5,1.0,0.7,50,1.5,10) $$"
   ]
  },
  {
   "cell_type": "markdown",
   "metadata": {},
   "source": [
    "$\\quad$"
   ]
  },
  {
   "cell_type": "code",
   "execution_count": 40,
   "metadata": {},
   "outputs": [],
   "source": [
    "a=0.7;rho=0.5;delta=2.0;alpha=2.0;beta=1.5;gamma=1.0;lambda0=0.7;T=50;c=1.5;x_0=10"
   ]
  },
  {
   "cell_type": "code",
   "execution_count": 48,
   "metadata": {},
   "outputs": [
    {
     "data": {
      "text/plain": [
       "33"
      ]
     },
     "execution_count": 48,
     "metadata": {},
     "output_type": "execute_result"
    }
   ],
   "source": [
    "Ti,Nt,N,lambdat,size=simulation2(a,rho,delta,alpha,beta,lambda0,T)\n",
    "max(Nt)"
   ]
  },
  {
   "cell_type": "code",
   "execution_count": 5,
   "metadata": {},
   "outputs": [],
   "source": [
    "#Conteo del número de saltos internos\n",
    "i=0\n",
    "Nt_final=[]\n",
    "while i <(len(Nt)):\n",
    "    \n",
    "    if i==0:\n",
    "        intr=Nt[0]\n",
    "        \n",
    "    else:\n",
    "        intr=Nt[i]-Nt[i-1]\n",
    "    Nt_final.append(intr)    \n",
    "    i=i+1\n",
    "    if i ==10000000:\n",
    "        break"
   ]
  },
  {
   "cell_type": "code",
   "execution_count": 6,
   "metadata": {},
   "outputs": [],
   "source": [
    "#Tiempos de saltos internos\n",
    "Ti_S = list(map(operator.mul, Ti, Nt_final))"
   ]
  },
  {
   "cell_type": "markdown",
   "metadata": {},
   "source": [
    "                                                     GRÁFICAS"
   ]
  },
  {
   "cell_type": "markdown",
   "metadata": {},
   "source": [
    "La gráfica del proceso puntual respecto a el tiempo nos permitirá conocer los tiempos en los cuales ocurrren saltos internos y en cuales se mantiene constante teniendo saltos externos en algún instante $T_i$"
   ]
  },
  {
   "cell_type": "code",
   "execution_count": 7,
   "metadata": {},
   "outputs": [
    {
     "data": {
      "text/plain": [
       "<matplotlib.legend.Legend at 0x2788ad785f8>"
      ]
     },
     "execution_count": 7,
     "metadata": {},
     "output_type": "execute_result"
    },
    {
     "data": {
      "image/png": "[encoded data removed]",
      "text/plain": [
       "<Figure size 1080x360 with 1 Axes>"
      ]
     },
     "metadata": {
      "needs_background": "light"
     },
     "output_type": "display_data"
    }
   ],
   "source": [
    "plt.figure(figsize=(15,5))\n",
    "plt.scatter(Ti,Nt,label='Jumps self and externally',color='red')\n",
    "plt.step(Ti,Nt,where='post')\n",
    "#plt.title('Ti vs Nt')\n",
    "plt.xlabel('Time')\n",
    "plt.ylabel('Point Process Nt')\n",
    "plt.legend()\n",
    "#plt.savefig(\"Proceso_Conteo.jpg\", bbox_inches='tight')"
   ]
  },
  {
   "cell_type": "markdown",
   "metadata": {},
   "source": [
    "Siguiendo la simulación para el proceso de intensidad $\\lambda_t$ podemos obtener los tiempos en los cuales ocurren saltos junto con su respectiva intesidad para ese instante de tiempo  "
   ]
  },
  {
   "cell_type": "code",
   "execution_count": 8,
   "metadata": {},
   "outputs": [
    {
     "data": {
      "text/plain": [
       "<matplotlib.legend.Legend at 0x2788ade90b8>"
      ]
     },
     "execution_count": 8,
     "metadata": {},
     "output_type": "execute_result"
    },
    {
     "data": {
      "image/png": "[encoded data removed]",
      "text/plain": [
       "<Figure size 1080x360 with 1 Axes>"
      ]
     },
     "metadata": {
      "needs_background": "light"
     },
     "output_type": "display_data"
    }
   ],
   "source": [
    "plt.figure(figsize=(15,5))\n",
    "plt.xlim(0,T)\n",
    "plt.scatter(Ti,lambdat,label='Jump',color='red')\n",
    "plt.xlabel('Time')\n",
    "plt.ylabel('Intensity Process')\n",
    "plt.legend()\n",
    "#plt.savefig(\"Proceso_Intensidad.jpg\", bbox_inches='tight')"
   ]
  },
  {
   "cell_type": "markdown",
   "metadata": {},
   "source": [
    "Se realizará una modificación al algoritmo de simulación de tal manera que se puedan conocer la diferencia entre la ocurrencia de un salto interno y uno externo. Esto nos servirá para calcular la media de cada uno de ellos y poder realizar el cálculo de la condición de ganancia neta."
   ]
  },
  {
   "cell_type": "code",
   "execution_count": 9,
   "metadata": {},
   "outputs": [],
   "source": [
    "def simulation3(a,rho,delta,alpha,beta,lambda0,T):\n",
    "    T0=0\n",
    "    Nt=[]\n",
    "    Nt.append(0)\n",
    "    E=(-1/rho)*(np.log(np.random.uniform(0,1)))\n",
    "    d1=1+((delta*np.log(np.random.uniform(0,1)))/lambda0-a)\n",
    "    lambdat=[]\n",
    "    Ti=[]\n",
    "    size=[]\n",
    "    sizeSJ=[]\n",
    "    sizeEJ=[]\n",
    "    if d1>0:\n",
    "        S1=(-np.log(d1))/delta\n",
    "        S2=(-np.log(np.random.uniform(0,1)))/a\n",
    "        S= min(S1,S2)\n",
    "    else:\n",
    "        S2=(-np.log(np.random.uniform(0,1)))/a\n",
    "        S=S2\n",
    "    Ti.append(T0+min(S,E))\n",
    "    lambdamenos=a+(lambda0-a)*np.exp(-delta*(Ti[0]-T0))\n",
    "    if S<E:\n",
    "        SJ=np.random.exponential(scale=1/beta)\n",
    "        lambdat.append(lambdamenos+SJ)\n",
    "        size.append(SJ)\n",
    "        sizeSJ.append(SJ)\n",
    "        N=1\n",
    "    else:\n",
    "        EJ=np.random.exponential(scale=1/alpha)\n",
    "        lambdat.append(lambdamenos+EJ)\n",
    "        size.append(EJ)\n",
    "        sizeEJ.append(EJ)\n",
    "        N=0\n",
    "    Nt[0]=N\n",
    "    i=1\n",
    "    Tx=Ti[-1]\n",
    "    while Tx<T:\n",
    "        E=(-1/rho)*(np.log(np.random.uniform(0,1)))\n",
    "        d1=1+((delta*np.log(np.random.uniform(0,1)))/lambdat[i-1]-a)\n",
    "        if d1>0:\n",
    "            S1=(-np.log(d1))/delta\n",
    "            S2=(-np.log(np.random.uniform(0,1)))/a\n",
    "            S= min(S1,S2)\n",
    "        else:\n",
    "            S2=(-np.log(np.random.uniform(0,1)))/a\n",
    "            S=S2\n",
    "        Tx=Ti[i-1]+min(S,E)\n",
    "        if Tx>T:\n",
    "            break\n",
    "        Ti.append(Tx)\n",
    "        \n",
    "        if S<E:\n",
    "            SJ=np.random.exponential(scale=1/beta)\n",
    "            lambdat.append(lambdamenos+SJ)\n",
    "            size.append(SJ)\n",
    "            sizeSJ.append(SJ)\n",
    "            N=1+N\n",
    "        else:\n",
    "            EJ=np.random.exponential(scale=1/alpha)\n",
    "            lambdat.append(lambdamenos+EJ)\n",
    "            size.append(EJ)\n",
    "            sizeEJ.append(EJ)\n",
    "            N=0+N\n",
    "        Nt.append(N)\n",
    "        i=i+1\n",
    "        if i==1000000:\n",
    "            break\n",
    "    return Ti,Nt,N,lambdat,sizeSJ,sizeEJ"
   ]
  },
  {
   "cell_type": "markdown",
   "metadata": {},
   "source": [
    "Se realizará la simulación con los parámetros $$(a,\\rho,\\delta,\\alpha,\\beta,\\gamma,\\lambda_0,c,X_0,T)=(0.7,0.5,2.0,2.0,1.5,1.0,0.7,1.5,10,50) $$"
   ]
  },
  {
   "cell_type": "code",
   "execution_count": 10,
   "metadata": {},
   "outputs": [],
   "source": [
    "a=0.7;rho=0.5;delta=2.0;alpha=2.0;beta=1.5;gamma=1.0;lambda0=0.7;c=1.5;x_0=10;T=50"
   ]
  },
  {
   "cell_type": "code",
   "execution_count": 11,
   "metadata": {},
   "outputs": [],
   "source": [
    "Ti,Nt,N,lambdat,sizeSJ,sizeEJ=simulation3(a,rho,delta,alpha,beta,lambda0,T)"
   ]
  },
  {
   "cell_type": "markdown",
   "metadata": {},
   "source": [
    "$\\quad$"
   ]
  },
  {
   "cell_type": "markdown",
   "metadata": {},
   "source": [
    "Cálculo de las esperanzas de los saltos internos y externos para determinar la condición de ganancia neta."
   ]
  },
  {
   "cell_type": "code",
   "execution_count": 12,
   "metadata": {},
   "outputs": [
    {
     "name": "stdout",
     "output_type": "stream",
     "text": [
      "(0.5134756665509806, 0.5031576270659763)\n",
      "29\n"
     ]
    }
   ],
   "source": [
    "mu1G=describe(sizeSJ).mean\n",
    "mu1H=describe(sizeEJ).mean\n",
    "print((mu1G,mu1H))\n",
    "print(np.max(Nt))"
   ]
  },
  {
   "cell_type": "markdown",
   "metadata": {},
   "source": [
    "$\\quad$"
   ]
  },
  {
   "cell_type": "markdown",
   "metadata": {},
   "source": [
    "La gráfica del número de saltos internos para la nueva simulación incluirá el valor esperado del proceso puntual dada la condición estacionaria."
   ]
  },
  {
   "cell_type": "markdown",
   "metadata": {},
   "source": [
    "$\\quad$"
   ]
  },
  {
   "cell_type": "code",
   "execution_count": 13,
   "metadata": {},
   "outputs": [
    {
     "name": "stdout",
     "output_type": "stream",
     "text": [
      "29 55.55169116206161\n"
     ]
    },
    {
     "data": {
      "image/png": "[encoded data removed]",
      "text/plain": [
       "<Figure size 1080x432 with 1 Axes>"
      ]
     },
     "metadata": {
      "needs_background": "light"
     },
     "output_type": "display_data"
    }
   ],
   "source": [
    "E_Nt=(mu1H * rho + a * delta)*T/(delta- mu1G)\n",
    "E_Nt1=[]\n",
    "i=0\n",
    "while i<len(Ti):\n",
    "    \n",
    "    E_Nt2=(mu1H * rho + a * delta)*Ti[i]/(delta- mu1G)\n",
    "    E_Nt1.append(E_Nt2)\n",
    "    i=i+1\n",
    "    if i==10000000:\n",
    "        break\n",
    "    \n",
    "\n",
    "    \n",
    "plt.figure(figsize=(15,6))\n",
    "plt.plot(Ti,E_Nt1,linestyle='--',label='Expect Value Nt')\n",
    "plt.step(Ti,Nt,where='post', label='Simulated Nt')\n",
    "plt.title('Ti vs Nt')\n",
    "plt.xlim(0,T)\n",
    "plt.ylim(0,np.max(E_Nt1))\n",
    "plt.xlabel('Time')\n",
    "plt.ylabel('Point Process Nt')\n",
    "plt.legend()\n",
    "print(np.max(Nt),E_Nt)"
   ]
  },
  {
   "cell_type": "markdown",
   "metadata": {},
   "source": [
    "$\\quad$"
   ]
  },
  {
   "cell_type": "markdown",
   "metadata": {},
   "source": [
    "Se realiza la simulación del tamaño de las reclamaciones que siguen distribución Erlang Tipo 3. Únicamente se tienen en cuenta los saltos internos para su cálculo."
   ]
  },
  {
   "cell_type": "code",
   "execution_count": 14,
   "metadata": {},
   "outputs": [],
   "source": [
    "#Comparación entre distribuciones del número de reclamaciones. \n",
    "x=[]\n",
    "y=[]\n",
    "y2=[]\n",
    "gamma=1.0\n",
    "i=0\n",
    "for i in range(0,200):\n",
    "    x1=np.random.gamma(1,scale=1/gamma)\n",
    "    y1=np.random.gamma(2,scale=1/gamma)\n",
    "    y_2=np.random.gamma(3,scale=1/gamma)\n",
    "    x.append(x1)\n",
    "    y.append(y1)\n",
    "    y2.append(y_2)\n",
    "    i=i+1\n",
    "    if i==200000:\n",
    "        break"
   ]
  },
  {
   "cell_type": "code",
   "execution_count": 17,
   "metadata": {},
   "outputs": [
    {
     "name": "stdout",
     "output_type": "stream",
     "text": [
      "199.62074965708865 381.11490302080875 616.60078261113\n"
     ]
    },
    {
     "data": {
      "image/png": "[encoded data removed]",
      "text/plain": [
       "<Figure size 432x288 with 1 Axes>"
      ]
     },
     "metadata": {
      "needs_background": "light"
     },
     "output_type": "display_data"
    }
   ],
   "source": [
    "plt.hist(x,histtype='step')\n",
    "plt.hist(y,histtype='step')\n",
    "plt.hist(y2,histtype='step')\n",
    "print(np.sum(x),np.sum(y),np.sum(y2))"
   ]
  },
  {
   "cell_type": "markdown",
   "metadata": {},
   "source": [
    "$\\quad$"
   ]
  },
  {
   "cell_type": "code",
   "execution_count": 51,
   "metadata": {},
   "outputs": [],
   "source": [
    "z=[]\n",
    "i=0\n",
    "k=2\n",
    "while i<len(Nt):\n",
    "    y=np.random.gamma(k,scale=1/gamma)\n",
    "    z.append(y)\n",
    "    i=i+1\n",
    "    if i==200000:\n",
    "        break\n",
    "mu1G=describe(sizeSJ).mean\n",
    "mu1H=describe(sizeEJ).mean\n",
    "mu1Z=describe(z).mean"
   ]
  },
  {
   "cell_type": "markdown",
   "metadata": {},
   "source": [
    "$\\quad$"
   ]
  },
  {
   "cell_type": "markdown",
   "metadata": {},
   "source": [
    "Se comprueba que se cumpla la condición de ganancia neta para la prima $c$ dada en los parámetros iniciales"
   ]
  },
  {
   "cell_type": "markdown",
   "metadata": {},
   "source": [
    "$\\quad$"
   ]
  },
  {
   "cell_type": "code",
   "execution_count": 52,
   "metadata": {},
   "outputs": [
    {
     "name": "stdout",
     "output_type": "stream",
     "text": [
      "Does not satisfy the Net Profit Condition\n"
     ]
    }
   ],
   "source": [
    "net=((mu1H* rho + a * delta)*mu1Z)/(delta-mu1G)\n",
    "if c>net:\n",
    "    print('Satisfy the Net Profit Condition')\n",
    "else:\n",
    "    print('Does not satisfy the Net Profit Condition')\n",
    "\n"
   ]
  },
  {
   "cell_type": "code",
   "execution_count": 53,
   "metadata": {},
   "outputs": [
    {
     "name": "stdout",
     "output_type": "stream",
     "text": [
      "58 [2.7805003380573865, 0.4958331006649705, 0.6607687220052698, 0.6824868007103674, 1.991231159042306, 2.0404659276517148, 5.7038300219717915, 1.0959412392862866, 2.9685093054544938, 0.733112678761427, 0.9615573239777631, 2.6898739916732652, 1.3826951526157139, 2.5738342194374493, 0.22393106030840618, 1.3324962292939417, 2.0527169493654447, 1.096817956829212, 1.5076566110000076, 3.6951172643021613, 2.6392406807235727, 3.1123326134131712, 2.626978942048222, 1.3687787169809005, 1.1627792900540612, 4.445754038426736, 1.2390251324029515, 1.2406489399935154, 2.1522773287200296, 5.233528885957958, 1.4313649254142353, 3.934258268219248, 1.4273429401521442, 5.0198508246642675, 0.8029048983149918, 1.2542272052491694, 1.7029407358168145, 9.143549932511537, 1.2817256917928435, 0.7742695879512207, 0.5365291135969816, 4.7625522203532284, 2.0746911406600845, 1.8143476951030446, 1.1913597791999964, 1.994297049680409, 5.6249197399275825, 2.206270013992864, 1.7182541883801816, 0.6255820146497092, 2.1535107398235005, 1.3119721597207379, 3.171174717755722, 3.044143612235997, 4.971928991713515, 4.668877546290393, 1.3858852013625342, 2.0626692441975187]\n"
     ]
    }
   ],
   "source": [
    "#Tamaño de la reclamación y número de reclamaciones\n",
    "print(np.size(z),z)"
   ]
  },
  {
   "cell_type": "code",
   "execution_count": 54,
   "metadata": {},
   "outputs": [],
   "source": [
    "#Conteo del número de saltos internos\n",
    "i=0\n",
    "Nt_final=[]\n",
    "while i <(len(Nt)):\n",
    "    \n",
    "    if i==0:\n",
    "        h=Nt[0]\n",
    "        \n",
    "    else:\n",
    "        h=Nt[i]-Nt[i-1]\n",
    "    Nt_final.append(h)    \n",
    "    i=i+1\n",
    "    if i ==10000000:\n",
    "        break"
   ]
  },
  {
   "cell_type": "code",
   "execution_count": 55,
   "metadata": {},
   "outputs": [],
   "source": [
    "#Tiempos de saltos internos\n",
    "Ti_S = list(map(operator.mul, Ti, Nt_final))"
   ]
  },
  {
   "cell_type": "code",
   "execution_count": 56,
   "metadata": {
    "scrolled": false
   },
   "outputs": [],
   "source": [
    "#Tamaño de los saltos internos\n",
    "z_S = list(map(operator.mul, z, Nt_final))"
   ]
  },
  {
   "cell_type": "code",
   "execution_count": 57,
   "metadata": {},
   "outputs": [],
   "source": [
    "X_t=[]\n",
    "i=0\n",
    "while i<len(Ti):\n",
    "    xt=x_0+c*(Ti[i])-np.cumsum(z_S)[i]\n",
    "    X_t.append(xt)\n",
    "    i=i+1\n",
    "    if i==2000000:\n",
    "        break"
   ]
  },
  {
   "cell_type": "markdown",
   "metadata": {},
   "source": [
    "$\\quad$"
   ]
  },
  {
   "cell_type": "markdown",
   "metadata": {},
   "source": [
    "Dada la prima $c$, se procede a calcular el superávit de la compañía para la ventana de tiempo $t$.\n",
    "\n"
   ]
  },
  {
   "cell_type": "markdown",
   "metadata": {},
   "source": [
    "$\\quad$"
   ]
  },
  {
   "cell_type": "code",
   "execution_count": 58,
   "metadata": {},
   "outputs": [],
   "source": [
    "i=0\n",
    "h=0\n",
    "X_t_2=X_t\n",
    "Ti_2=Ti\n",
    "while i < len(z_S):\n",
    "    if z_S[i]!=0:\n",
    "        \n",
    "        X_t_a=X_t_2[:i+h]\n",
    "        X_t_a.append(z_S[i]+X_t[i])\n",
    "        X_t_b=X_t_2[i+h:]\n",
    "        X_t_2=X_t_a+X_t_b\n",
    "        \n",
    "        Ti_a=Ti_2[:i+h]\n",
    "        Ti_a.append(Ti[i])\n",
    "        Ti_b=Ti_2[i+h:]\n",
    "        Ti_2=Ti_a+Ti_b\n",
    "        h+=1\n",
    "    i+=1"
   ]
  },
  {
   "cell_type": "code",
   "execution_count": 59,
   "metadata": {},
   "outputs": [
    {
     "data": {
      "image/png": "[encoded data removed]",
      "text/plain": [
       "<Figure size 1080x432 with 1 Axes>"
      ]
     },
     "metadata": {
      "needs_background": "light"
     },
     "output_type": "display_data"
    }
   ],
   "source": [
    "plt.figure(figsize=(15,6))\n",
    "plt.plot(Ti_2,X_t_2,color='blue')\n",
    "plt.title('Xt vs T')\n",
    "plt.xlim(0,T)\n",
    "#plt.ylim(-np.max(X_t_2),np.max(X_t_2)+10)\n",
    "plt.xlabel('Time')\n",
    "plt.ylabel('Surplus Xt')\n",
    "plt.savefig(\"surplus_erlang.jpg\", bbox_inches='tight')"
   ]
  },
  {
   "cell_type": "markdown",
   "metadata": {},
   "source": [
    "$\\quad$"
   ]
  },
  {
   "cell_type": "code",
   "execution_count": null,
   "metadata": {},
   "outputs": [],
   "source": []
  }
 ],
 "metadata": {
  "celltoolbar": "Raw Cell Format",
  "colab": {
   "name": "Tesis.ipynb",
   "provenance": []
  },
  "kernelspec": {
   "display_name": "Python 3",
   "language": "python",
   "name": "python3"
  },
  "language_info": {
   "codemirror_mode": {
    "name": "ipython",
    "version": 3
   },
   "file_extension": ".py",
   "mimetype": "text/x-python",
   "name": "python",
   "nbconvert_exporter": "python",
   "pygments_lexer": "ipython3",
   "version": "3.7.3"
  }
 },
 "nbformat": 4,
 "nbformat_minor": 1
}
